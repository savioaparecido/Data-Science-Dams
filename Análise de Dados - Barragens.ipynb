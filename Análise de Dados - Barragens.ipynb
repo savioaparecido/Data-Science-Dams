{
 "cells": [
  {
   "cell_type": "code",
   "execution_count": 1,
   "metadata": {},
   "outputs": [],
   "source": [
    "''' Importando as bibliotecas necessárias para a Análise '''\n",
    "import numpy as np\n",
    "import pandas as pd\n",
    "import matplotlib.pyplot as plt"
   ]
  },
  {
   "cell_type": "code",
   "execution_count": 2,
   "metadata": {},
   "outputs": [],
   "source": [
    "xlsx_2015 = pd.ExcelFile('2015.xlsx')\n",
    "xlsx_2016 = pd.ExcelFile('2016.xlsx')\n",
    "barragens_2015 = pd.read_excel(xlsx_2015)\n",
    "barragens_2016 = pd.read_excel(xlsx_2016)"
   ]
  },
  {
   "cell_type": "code",
   "execution_count": 3,
   "metadata": {},
   "outputs": [
    {
     "data": {
      "text/plain": [
       "(651, 6)"
      ]
     },
     "execution_count": 3,
     "metadata": {},
     "output_type": "execute_result"
    }
   ],
   "source": [
    "barragens_2015.shape #Quantidade de Linhas e Colunas"
   ]
  },
  {
   "cell_type": "code",
   "execution_count": 4,
   "metadata": {},
   "outputs": [
    {
     "data": {
      "text/plain": [
       "(680, 6)"
      ]
     },
     "execution_count": 4,
     "metadata": {},
     "output_type": "execute_result"
    }
   ],
   "source": [
    "barragens_2016.shape #Quantidade de Linhas e Colunas"
   ]
  },
  {
   "cell_type": "code",
   "execution_count": 5,
   "metadata": {},
   "outputs": [
    {
     "data": {
      "text/plain": [
       "Index(['CLASSE                                     ', 'MUNICÍPIO', 'BACIA',\n",
       "       'ALTURA ATUAL (m)', 'VOLUME DO ATERRO (m³)',\n",
       "       'VOLUME DO RESERVATÓRIO (m³)'],\n",
       "      dtype='object')"
      ]
     },
     "execution_count": 5,
     "metadata": {},
     "output_type": "execute_result"
    }
   ],
   "source": [
    "barragens_2015.columns"
   ]
  },
  {
   "cell_type": "code",
   "execution_count": 6,
   "metadata": {},
   "outputs": [
    {
     "data": {
      "text/plain": [
       "Index(['CLASSE                                     ', 'MUNICÍPIO', 'BACIA',\n",
       "       'ALTURA ATUAL (m)', 'VOLUME DO ATERRO (m³)',\n",
       "       'VOLUME DO RESERVATÓRIO (m³)'],\n",
       "      dtype='object')"
      ]
     },
     "execution_count": 6,
     "metadata": {},
     "output_type": "execute_result"
    }
   ],
   "source": [
    "barragens_2016.columns"
   ]
  },
  {
   "cell_type": "code",
   "execution_count": 7,
   "metadata": {},
   "outputs": [],
   "source": [
    "#Renomeando as colunas\n",
    "barragens_2015.columns = ['Classe', 'Municipio', 'Bacia', 'Altura', 'Volume_Aterro', 'Volume_Reservatorio']\n",
    "barragens_2016.columns = ['Classe', 'Municipio', 'Bacia', 'Altura', 'Volume_Aterro', 'Volume_Reservatorio']"
   ]
  },
  {
   "cell_type": "code",
   "execution_count": 8,
   "metadata": {},
   "outputs": [
    {
     "data": {
      "text/plain": [
       "Index(['Classe', 'Municipio', 'Bacia', 'Altura', 'Volume_Aterro',\n",
       "       'Volume_Reservatorio'],\n",
       "      dtype='object')"
      ]
     },
     "execution_count": 8,
     "metadata": {},
     "output_type": "execute_result"
    }
   ],
   "source": [
    "barragens_2015.columns"
   ]
  },
  {
   "cell_type": "code",
   "execution_count": 9,
   "metadata": {},
   "outputs": [
    {
     "data": {
      "text/plain": [
       "Index(['Classe', 'Municipio', 'Bacia', 'Altura', 'Volume_Aterro',\n",
       "       'Volume_Reservatorio'],\n",
       "      dtype='object')"
      ]
     },
     "execution_count": 9,
     "metadata": {},
     "output_type": "execute_result"
    }
   ],
   "source": [
    "barragens_2016.columns"
   ]
  },
  {
   "cell_type": "code",
   "execution_count": 10,
   "metadata": {},
   "outputs": [
    {
     "data": {
      "text/plain": [
       "Classe                 651\n",
       "Municipio              651\n",
       "Bacia                  651\n",
       "Altura                 651\n",
       "Volume_Aterro          651\n",
       "Volume_Reservatorio    651\n",
       "dtype: int64"
      ]
     },
     "execution_count": 10,
     "metadata": {},
     "output_type": "execute_result"
    }
   ],
   "source": [
    "barragens_2015.count() #Verificação de Dados Nulos"
   ]
  },
  {
   "cell_type": "code",
   "execution_count": 11,
   "metadata": {},
   "outputs": [
    {
     "data": {
      "text/plain": [
       "Classe                 680\n",
       "Municipio              680\n",
       "Bacia                  680\n",
       "Altura                 680\n",
       "Volume_Aterro          680\n",
       "Volume_Reservatorio    680\n",
       "dtype: int64"
      ]
     },
     "execution_count": 11,
     "metadata": {},
     "output_type": "execute_result"
    }
   ],
   "source": [
    "barragens_2016.count() #Verificação de Dados Nulos"
   ]
  },
  {
   "cell_type": "markdown",
   "metadata": {},
   "source": [
    "### Bacias - 2015 - 2016\n",
    "##### Rio Paranaíba\n",
    "##### Rio São Francisco\n",
    "##### Rio Mucuri\n",
    "##### Rio Grande\n",
    "##### Rio Doce\n",
    "##### Rio Pardo\n",
    "##### Rio Santo Antônio\n",
    "##### Rio Piracicaba/Jaguari\n",
    "##### Rio Paraopeba\n",
    "##### Rio Paraíba do Sul\n",
    "##### Rio Paracatu\n",
    "##### Rio das Velhas\n",
    "##### Rio Jequitinhonha\n",
    "##### Afluentes do rio Verde Grande\n",
    "##### Afluentes mineiros do Baixo Grande\n",
    "##### Afluentes mineiros do Médio Grande"
   ]
  },
  {
   "cell_type": "code",
   "execution_count": 12,
   "metadata": {},
   "outputs": [],
   "source": [
    "#Recebe o nome das bacias\n",
    "b_rparanaiba_2015 = []\n",
    "b_rsfrancisco_2015 = []\n",
    "b_rmucuri_2015 = []\n",
    "b_rgrande_2015 = []\n",
    "b_rdoce_2015 = []\n",
    "b_rpardo_2015 = []\n",
    "b_rsantonio_2015 = []\n",
    "b_rpiracicaba_2015 = []\n",
    "b_rparaopeba_2015 = []\n",
    "b_rparaiba_2015 = []\n",
    "b_rparacatu_2015 = []\n",
    "b_rvelhas_2015 = []\n",
    "b_rjequitinhonha_2015 = []\n",
    "b_ARVG_2015 = []\n",
    "b_AMBG_2015 = []\n",
    "b_AMMG_2015 = []\n",
    "\n",
    "#Recebe a altura das bacias\n",
    "b_h_rparanaiba_2015 = []\n",
    "b_h_rsfrancisco_2015 = []\n",
    "b_h_rmucuri_2015 = []\n",
    "b_h_rgrande_2015 = []\n",
    "b_h_rdoce_2015 = []\n",
    "b_h_rpardo_2015 = []\n",
    "b_h_rsantonio_2015 = []\n",
    "b_h_rpiracicaba_2015 = []\n",
    "b_h_rparaopeba_2015 = []\n",
    "b_h_rparaiba_2015 = []\n",
    "b_h_rparacatu_2015 = []\n",
    "b_h_rvelhas_2015 = []\n",
    "b_h_rjequitinhonha_2015 = []\n",
    "b_h_ARVG_2015 = []\n",
    "b_h_AMBG_2015 = []\n",
    "b_h_AMMG_2015 = []\n",
    "\n",
    "#Recebe o Volume de Aterro\n",
    "b_va_rparanaiba_2015 = []\n",
    "b_va_rsfrancisco_2015 = []\n",
    "b_va_rmucuri_2015 = []\n",
    "b_va_rgrande_2015 = []\n",
    "b_va_rdoce_2015 = []\n",
    "b_va_rpardo_2015 = []\n",
    "b_va_rsantonio_2015 = []\n",
    "b_va_rpiracicaba_2015 = []\n",
    "b_va_rparaopeba_2015 = []\n",
    "b_va_rparaiba_2015 = []\n",
    "b_va_rparacatu_2015 = []\n",
    "b_va_rvelhas_2015 = []\n",
    "b_va_rjequitinhonha_2015 = []\n",
    "b_va_ARVG_2015 = []\n",
    "b_va_AMBG_2015 = []\n",
    "b_va_AMMG_2015 = []\n",
    "\n",
    "#Recebe o Volume de Reservatório\n",
    "b_vr_rparanaiba_2015 = []\n",
    "b_vr_rsfrancisco_2015 = []\n",
    "b_vr_rmucuri_2015 = []\n",
    "b_vr_rgrande_2015 = []\n",
    "b_vr_rdoce_2015 = []\n",
    "b_vr_rpardo_2015 = []\n",
    "b_vr_rsantonio_2015 = []\n",
    "b_vr_rpiracicaba_2015 = []\n",
    "b_vr_rparaopeba_2015 = []\n",
    "b_vr_rparaiba_2015 = []\n",
    "b_vr_rparacatu_2015 = []\n",
    "b_vr_rvelhas_2015 = []\n",
    "b_vr_rjequitinhonha_2015 = []\n",
    "b_vr_ARVG_2015 = []\n",
    "b_vr_AMBG_2015 = []\n",
    "b_vr_AMMG_2015 = []"
   ]
  },
  {
   "cell_type": "code",
   "execution_count": 13,
   "metadata": {},
   "outputs": [],
   "source": [
    "for i in range(0,651):\n",
    "    nome = barragens_2015['Bacia'][i]\n",
    "    altura = barragens_2015['Altura'][i]\n",
    "    v_aterro = barragens_2015['Volume_Aterro'][i]\n",
    "    v_reserv = barragens_2015['Volume_Reservatorio'][i]\n",
    "    if nome == 'Rio Paranaíba':\n",
    "        b_rparanaiba_2015.append(nome)\n",
    "        b_h_rparanaiba_2015.append(altura)\n",
    "        b_va_rparanaiba_2015.append(v_aterro)\n",
    "        b_vr_rparanaiba_2015.append(v_reserv)\n",
    "    elif nome == 'Rio São Francisco':\n",
    "        b_rsfrancisco_2015.append(nome)\n",
    "        b_h_rsfrancisco_2015.append(altura)\n",
    "        b_va_rsfrancisco_2015.append(v_aterro)\n",
    "        b_vr_rsfrancisco_2015.append(v_reserv)\n",
    "    elif nome == 'Rio Mucuri':\n",
    "        b_rmucuri_2015.append(nome)\n",
    "        b_h_rmucuri_2015.append(altura)\n",
    "        b_va_rmucuri_2015.append(v_aterro)\n",
    "        b_vr_rmucuri_2015.append(v_reserv)\n",
    "    elif nome == 'Rio Grande':\n",
    "        b_rgrande_2015.append(nome)\n",
    "        b_h_rgrande_2015.append(altura)\n",
    "        b_va_rgrande_2015.append(v_aterro)\n",
    "        b_vr_rgrande_2015.append(v_reserv)\n",
    "    elif nome == 'Rio Doce':\n",
    "        b_rdoce_2015.append(nome)\n",
    "        b_h_rdoce_2015.append(altura)\n",
    "        b_va_rdoce_2015.append(v_aterro)\n",
    "        b_vr_rdoce_2015.append(v_reserv)\n",
    "    elif nome == 'Rio Pardo':\n",
    "        b_rpardo_2015.append(nome)\n",
    "        b_h_rpardo_2015.append(altura)\n",
    "        b_va_rpardo_2015.append(v_aterro)\n",
    "        b_vr_rpardo_2015.append(v_reserv)\n",
    "    elif nome == 'Rio Santo Antônio':\n",
    "        b_rsantonio_2015.append(nome)\n",
    "        b_h_rsantonio_2015.append(altura)\n",
    "        b_va_rsantonio_2015.append(v_aterro)\n",
    "        b_vr_rsantonio_2015.append(v_reserv)\n",
    "    elif nome == 'Rio Piracicaba/Jaguari':\n",
    "        b_rpiracicaba_2015.append(nome)\n",
    "        b_h_rpiracicaba_2015.append(altura)\n",
    "        b_va_rpiracicaba_2015.append(v_aterro)\n",
    "        b_vr_rpiracicaba_2015.append(v_reserv)\n",
    "    elif nome == 'Rio Paraopeba':\n",
    "        b_rparaopeba_2015.append(nome)\n",
    "        b_h_rparaopeba_2015.append(altura)\n",
    "        b_va_rparaopeba_2015.append(v_aterro)\n",
    "        b_vr_rparaopeba_2015.append(v_reserv)\n",
    "    elif nome == 'Rio Paraíba do Sul':\n",
    "        b_rparaiba_2015.append(nome)\n",
    "        b_h_rparaiba_2015.append(altura)\n",
    "        b_va_rparaiba_2015.append(v_aterro)\n",
    "        b_vr_rparaiba_2015.append(v_reserv)\n",
    "    elif nome == 'Rio Paracatu':\n",
    "        b_rparacatu_2015.append(nome)\n",
    "        b_h_rparacatu_2015.append(altura)\n",
    "        b_va_rparacatu_2015.append(v_aterro)\n",
    "        b_vr_rparacatu_2015.append(v_reserv)\n",
    "    elif nome == 'Rio das Velhas':\n",
    "        b_rvelhas_2015.append(nome)\n",
    "        b_h_rvelhas_2015.append(altura)\n",
    "        b_va_rvelhas_2015.append(v_aterro)\n",
    "        b_vr_rvelhas_2015.append(v_reserv)\n",
    "    elif nome == 'Rio Jequitinhonha':\n",
    "        b_rjequitinhonha_2015.append(nome)\n",
    "        b_h_rjequitinhonha_2015.append(altura)\n",
    "        b_va_rjequitinhonha_2015.append(v_aterro)\n",
    "        b_vr_rjequitinhonha_2015.append(v_reserv)\n",
    "    elif nome == 'Afluentes do rio Verde Grande':\n",
    "        b_ARVG_2015.append(nome)\n",
    "        b_h_ARVG_2015.append(altura)\n",
    "        b_va_ARVG_2015.append(v_aterro)\n",
    "        b_vr_ARVG_2015.append(v_reserv)\n",
    "    elif nome == 'Afluentes mineiros do Baixo Grande':\n",
    "        b_AMBG_2015.append(nome)\n",
    "        b_h_AMBG_2015.append(altura)\n",
    "        b_va_AMBG_2015.append(v_aterro)\n",
    "        b_vr_AMBG_2015.append(v_reserv)\n",
    "    elif nome == 'Afluentes mineiros do Médio Grande':\n",
    "        b_AMMG_2015.append(nome)\n",
    "        b_h_AMMG_2015.append(altura)\n",
    "        b_va_AMMG_2015.append(v_aterro)\n",
    "        b_vr_AMMG_2015.append(v_reserv)\n",
    "    else:\n",
    "        b_rpiracicaba_2015.append(nome)\n",
    "        b_h_rpiracicaba_2015.append(altura)\n",
    "        b_va_rpiracicaba_2015.append(v_aterro)\n",
    "        b_vr_rpiracicaba_2015.append(v_reserv)"
   ]
  },
  {
   "cell_type": "code",
   "execution_count": 14,
   "metadata": {},
   "outputs": [
    {
     "data": {
      "text/plain": [
       "651"
      ]
     },
     "execution_count": 14,
     "metadata": {},
     "output_type": "execute_result"
    }
   ],
   "source": [
    "len(b_rparanaiba_2015)+len(b_rsfrancisco_2015)+len(b_rmucuri_2015)+len(b_rgrande_2015)+len(b_rdoce_2015)+len(b_rpardo_2015)+len(b_rsantonio_2015)+len(b_rpiracicaba_2015)+len(b_rparaopeba_2015)+len(b_rparaiba_2015)+len(b_rparacatu_2015)+len(b_rvelhas_2015)+len(b_rjequitinhonha_2015)+len(b_ARVG_2015)+len(b_AMBG_2015)+len(b_AMMG_2015)"
   ]
  },
  {
   "cell_type": "code",
   "execution_count": 15,
   "metadata": {},
   "outputs": [],
   "source": [
    "#Recebe o nome das bacias\n",
    "b_rparanaiba_2016 = []\n",
    "b_rsfrancisco_2016 = []\n",
    "b_rmucuri_2016 = []\n",
    "b_rgrande_2016 = []\n",
    "b_rdoce_2016 = []\n",
    "b_rpardo_2016 = []\n",
    "b_rsantonio_2016 = []\n",
    "b_rpiracicaba_2016 = []\n",
    "b_rparaopeba_2016 = []\n",
    "b_rparaiba_2016 = []\n",
    "b_rparacatu_2016 = []\n",
    "b_rvelhas_2016 = []\n",
    "b_rjequitinhonha_2016 = []\n",
    "b_ARVG_2016 = []\n",
    "b_AMMG_2016 = []\n",
    "\n",
    "#Recebe a altura das bacias\n",
    "b_h_rparanaiba_2016 = []\n",
    "b_h_rsfrancisco_2016 = []\n",
    "b_h_rmucuri_2016 = []\n",
    "b_h_rgrande_2016 = []\n",
    "b_h_rdoce_2016 = []\n",
    "b_h_rpardo_2016 = []\n",
    "b_h_rsantonio_2016 = []\n",
    "b_h_rpiracicaba_2016 = []\n",
    "b_h_rparaopeba_2016 = []\n",
    "b_h_rparaiba_2016 = []\n",
    "b_h_rparacatu_2016 = []\n",
    "b_h_rvelhas_2016 = []\n",
    "b_h_rjequitinhonha_2016 = []\n",
    "b_h_ARVG_2016 = []\n",
    "b_h_AMMG_2016 = []\n",
    "\n",
    "#Recebe o Volume de Aterro\n",
    "b_va_rparanaiba_2016 = []\n",
    "b_va_rsfrancisco_2016 = []\n",
    "b_va_rmucuri_2016 = []\n",
    "b_va_rgrande_2016 = []\n",
    "b_va_rdoce_2016 = []\n",
    "b_va_rpardo_2016 = []\n",
    "b_va_rsantonio_2016 = []\n",
    "b_va_rpiracicaba_2016 = []\n",
    "b_va_rparaopeba_2016 = []\n",
    "b_va_rparaiba_2016 = []\n",
    "b_va_rparacatu_2016 = []\n",
    "b_va_rvelhas_2016 = []\n",
    "b_va_rjequitinhonha_2016 = []\n",
    "b_va_ARVG_2016 = []\n",
    "b_va_AMMG_2016 = []\n",
    "\n",
    "#Recebe o Volume de Reservatório\n",
    "b_vr_rparanaiba_2016 = []\n",
    "b_vr_rsfrancisco_2016 = []\n",
    "b_vr_rmucuri_2016 = []\n",
    "b_vr_rgrande_2016 = []\n",
    "b_vr_rdoce_2016 = []\n",
    "b_vr_rpardo_2016 = []\n",
    "b_vr_rsantonio_2016 = []\n",
    "b_vr_rpiracicaba_2016 = []\n",
    "b_vr_rparaopeba_2016 = []\n",
    "b_vr_rparaiba_2016 = []\n",
    "b_vr_rparacatu_2016 = []\n",
    "b_vr_rvelhas_2016 = []\n",
    "b_vr_rjequitinhonha_2016 = []\n",
    "b_vr_ARVG_2016 = []\n",
    "b_vr_AMMG_2016 = []"
   ]
  },
  {
   "cell_type": "code",
   "execution_count": 16,
   "metadata": {},
   "outputs": [],
   "source": [
    "for i in range(0,680):\n",
    "    nome = barragens_2016['Bacia'][i]\n",
    "    altura = barragens_2016['Altura'][i]\n",
    "    v_aterro = barragens_2016['Volume_Aterro'][i]\n",
    "    v_reserv = barragens_2016['Volume_Reservatorio'][i]\n",
    "    if nome == 'Rio Paranaíba':\n",
    "        b_rparanaiba_2016.append(nome)\n",
    "        b_h_rparanaiba_2016.append(altura)\n",
    "        b_va_rparanaiba_2016.append(v_aterro)\n",
    "        b_vr_rparanaiba_2016.append(v_reserv)\n",
    "    elif nome == 'Rio São Francisco':\n",
    "        b_rsfrancisco_2016.append(nome)\n",
    "        b_h_rsfrancisco_2016.append(altura)\n",
    "        b_va_rsfrancisco_2016.append(v_aterro)\n",
    "        b_vr_rsfrancisco_2016.append(v_reserv)\n",
    "    elif nome == 'Rio Mucuri':\n",
    "        b_rmucuri_2016.append(nome)\n",
    "        b_h_rmucuri_2016.append(altura)\n",
    "        b_va_rmucuri_2016.append(v_aterro)\n",
    "        b_vr_rmucuri_2016.append(v_reserv)\n",
    "    elif nome == 'Rio Grande':\n",
    "        b_rgrande_2016.append(nome)\n",
    "        b_h_rgrande_2016.append(altura)\n",
    "        b_va_rgrande_2016.append(v_aterro)\n",
    "        b_vr_rgrande_2016.append(v_reserv)\n",
    "    elif nome == 'Rio Doce':\n",
    "        b_rdoce_2016.append(nome)\n",
    "        b_h_rdoce_2016.append(altura)\n",
    "        b_va_rdoce_2016.append(v_aterro)\n",
    "        b_vr_rdoce_2016.append(v_reserv)\n",
    "    elif nome == 'Rio Pardo':\n",
    "        b_rpardo_2016.append(nome)\n",
    "        b_h_rpardo_2016.append(altura)\n",
    "        b_va_rpardo_2016.append(v_aterro)\n",
    "        b_vr_rpardo_2016.append(v_reserv)\n",
    "    elif nome == 'Rio Santo Antônio':\n",
    "        b_rsantonio_2016.append(nome)\n",
    "        b_h_rsantonio_2016.append(altura)\n",
    "        b_va_rsantonio_2016.append(v_aterro)\n",
    "        b_vr_rsantonio_2016.append(v_reserv)\n",
    "    elif nome == 'Rio Piracicaba/Jaguari':\n",
    "        b_rpiracicaba_2016.append(nome)\n",
    "        b_h_rpiracicaba_2016.append(altura)\n",
    "        b_va_rpiracicaba_2016.append(v_aterro)\n",
    "        b_vr_rpiracicaba_2016.append(v_reserv)\n",
    "    elif nome == 'Rio Paraopeba':\n",
    "        b_rparaopeba_2016.append(nome)\n",
    "        b_h_rparaopeba_2016.append(altura)\n",
    "        b_va_rparaopeba_2016.append(v_aterro)\n",
    "        b_vr_rparaopeba_2016.append(v_reserv)\n",
    "    elif nome == 'Rio Paraíba do Sul':\n",
    "        b_rparaiba_2016.append(nome)\n",
    "        b_h_rparaiba_2016.append(altura)\n",
    "        b_va_rparaiba_2016.append(v_aterro)\n",
    "        b_vr_rparaiba_2016.append(v_reserv)\n",
    "    elif nome == 'Rio Paracatu':\n",
    "        b_rparacatu_2016.append(nome)\n",
    "        b_h_rparacatu_2016.append(altura)\n",
    "        b_va_rparacatu_2016.append(v_aterro)\n",
    "        b_vr_rparacatu_2016.append(v_reserv)\n",
    "    elif nome == 'Rio das Velhas':\n",
    "        b_rvelhas_2016.append(nome)\n",
    "        b_h_rvelhas_2016.append(altura)\n",
    "        b_va_rvelhas_2016.append(v_aterro)\n",
    "        b_vr_rvelhas_2016.append(v_reserv)\n",
    "    elif nome == 'Rio Jequitinhonha':\n",
    "        b_rjequitinhonha_2016.append(nome)\n",
    "        b_h_rjequitinhonha_2016.append(altura)\n",
    "        b_va_rjequitinhonha_2016.append(v_aterro)\n",
    "        b_vr_rjequitinhonha_2016.append(v_reserv)\n",
    "    elif nome == 'Afluentes do rio Verde Grande':\n",
    "        b_ARVG_2016.append(nome)\n",
    "        b_h_ARVG_2016.append(altura)\n",
    "        b_va_ARVG_2016.append(v_aterro)\n",
    "        b_vr_ARVG_2016.append(v_reserv)\n",
    "    elif nome == 'Afluentes mineiros do Médio Grande':\n",
    "        b_AMMG_2016.append(nome)\n",
    "        b_h_AMMG_2016.append(altura)\n",
    "        b_va_AMMG_2016.append(v_aterro)\n",
    "        b_vr_AMMG_2016.append(v_reserv)\n",
    "    else:\n",
    "        b_rpiracicaba_2016.append(nome)\n",
    "        b_h_rpiracicaba_2016.append(altura)\n",
    "        b_va_rpiracicaba_2016.append(v_aterro)\n",
    "        b_vr_rpiracicaba_2016.append(v_reserv)"
   ]
  },
  {
   "cell_type": "code",
   "execution_count": 17,
   "metadata": {},
   "outputs": [
    {
     "data": {
      "text/plain": [
       "680"
      ]
     },
     "execution_count": 17,
     "metadata": {},
     "output_type": "execute_result"
    }
   ],
   "source": [
    "len(b_rparanaiba_2016)+len(b_rsfrancisco_2016)+len(b_rmucuri_2016)+len(b_rgrande_2016)+len(b_rdoce_2016)+len(b_rpardo_2016)+len(b_rsantonio_2016)+len(b_rpiracicaba_2016)+len(b_rparaopeba_2016)+len(b_rparaiba_2016)+len(b_rparacatu_2016)+len(b_rvelhas_2016)+len(b_rjequitinhonha_2016)+len(b_ARVG_2016)+len(b_AMMG_2016)"
   ]
  },
  {
   "cell_type": "code",
   "execution_count": 18,
   "metadata": {},
   "outputs": [],
   "source": [
    "lista_altura_2015 = [b_h_rparanaiba_2015,\n",
    "                     b_h_rsfrancisco_2015,\n",
    "                     b_h_rmucuri_2015,\n",
    "                     b_h_rgrande_2015,\n",
    "                     b_h_rdoce_2015,\n",
    "                     b_h_rpardo_2015,\n",
    "                     b_h_rsantonio_2015,\n",
    "                     b_h_rpiracicaba_2015,\n",
    "                     b_h_rparaopeba_2015,\n",
    "                     b_h_rparaiba_2015,\n",
    "                     b_h_rparacatu_2015,\n",
    "                     b_h_rvelhas_2015,\n",
    "                     b_h_rjequitinhonha_2015,\n",
    "                     b_h_ARVG_2015,\n",
    "                     b_h_AMBG_2015,\n",
    "                     b_h_AMMG_2015]\n",
    "lista_altura_2016 = [b_h_rparanaiba_2016, \n",
    "                     b_h_rsfrancisco_2016,\n",
    "                     b_h_rmucuri_2016,\n",
    "                     b_h_rgrande_2016,\n",
    "                     b_h_rdoce_2016,\n",
    "                     b_h_rpardo_2016,\n",
    "                     b_h_rsantonio_2016,\n",
    "                     b_h_rpiracicaba_2016,\n",
    "                     b_h_rparaopeba_2016,\n",
    "                     b_h_rparaiba_2016,\n",
    "                     b_h_rparacatu_2016, \n",
    "                     b_h_rvelhas_2016, \n",
    "                     b_h_rjequitinhonha_2016, \n",
    "                     b_h_ARVG_2016,  \n",
    "                     b_h_AMMG_2016]"
   ]
  },
  {
   "cell_type": "code",
   "execution_count": 19,
   "metadata": {},
   "outputs": [],
   "source": [
    "lista_v_aterro_2015 = [b_va_rparanaiba_2015,\n",
    "                       b_va_rsfrancisco_2015,\n",
    "                       b_va_rmucuri_2015,\n",
    "                       b_va_rgrande_2015,\n",
    "                       b_va_rdoce_2015,\n",
    "                       b_va_rpardo_2015,\n",
    "                       b_va_rsantonio_2015,\n",
    "                       b_va_rpiracicaba_2015,\n",
    "                       b_va_rparaopeba_2015,\n",
    "                       b_va_rparaiba_2015,\n",
    "                       b_va_rparacatu_2015,\n",
    "                       b_va_rvelhas_2015,\n",
    "                       b_va_rjequitinhonha_2015,\n",
    "                       b_va_ARVG_2015,\n",
    "                       b_va_AMBG_2015,\n",
    "                       b_va_AMMG_2015]\n",
    "\n",
    "lista_v_aterro_2016 = [b_va_rparanaiba_2016,\n",
    "                       b_va_rsfrancisco_2016,\n",
    "                       b_va_rmucuri_2016,\n",
    "                       b_va_rgrande_2016,\n",
    "                       b_va_rdoce_2016,\n",
    "                       b_va_rpardo_2016,\n",
    "                       b_va_rsantonio_2016,\n",
    "                       b_va_rpiracicaba_2016,\n",
    "                       b_va_rparaopeba_2016,\n",
    "                       b_va_rparaiba_2016,\n",
    "                       b_va_rparacatu_2016,\n",
    "                       b_va_rvelhas_2016,\n",
    "                       b_va_rjequitinhonha_2016,\n",
    "                       b_va_ARVG_2016,\n",
    "                       b_va_AMMG_2016,]"
   ]
  },
  {
   "cell_type": "code",
   "execution_count": 20,
   "metadata": {},
   "outputs": [],
   "source": [
    "lista_v_reserv_2015 = [b_vr_rparanaiba_2015,\n",
    "                       b_vr_rsfrancisco_2015,\n",
    "                       b_vr_rmucuri_2015,\n",
    "                       b_vr_rgrande_2015,\n",
    "                       b_vr_rdoce_2015,\n",
    "                       b_vr_rpardo_2015,\n",
    "                       b_vr_rsantonio_2015,\n",
    "                       b_vr_rpiracicaba_2015,\n",
    "                       b_vr_rparaopeba_2015,\n",
    "                       b_vr_rparaiba_2015,\n",
    "                       b_vr_rparacatu_2015,\n",
    "                       b_vr_rvelhas_2015,\n",
    "                       b_vr_rjequitinhonha_2015,\n",
    "                       b_vr_ARVG_2015,\n",
    "                       b_vr_AMBG_2015,\n",
    "                       b_vr_AMMG_2015]\n",
    "\n",
    "lista_v_reserv_2016 = [b_vr_rparanaiba_2016,\n",
    "                       b_vr_rsfrancisco_2016,\n",
    "                       b_vr_rmucuri_2016,\n",
    "                       b_vr_rgrande_2016,\n",
    "                       b_vr_rdoce_2016,\n",
    "                       b_vr_rpardo_2016,\n",
    "                       b_vr_rsantonio_2016,\n",
    "                       b_vr_rpiracicaba_2016,\n",
    "                       b_vr_rparaopeba_2016,\n",
    "                       b_vr_rparaiba_2016,\n",
    "                       b_vr_rparacatu_2016,\n",
    "                       b_vr_rvelhas_2016,\n",
    "                       b_vr_rjequitinhonha_2016,\n",
    "                       b_vr_ARVG_2016,\n",
    "                       b_vr_AMMG_2016,]"
   ]
  },
  {
   "cell_type": "code",
   "execution_count": 21,
   "metadata": {},
   "outputs": [],
   "source": [
    "lista_nome_2015 = [b_rparanaiba_2015[0],\n",
    "                     b_rsfrancisco_2015[0],\n",
    "                     b_rmucuri_2015[0],\n",
    "                     b_rgrande_2015[0],\n",
    "                     b_rdoce_2015[0],\n",
    "                     b_rpardo_2015[0],\n",
    "                     b_rsantonio_2015[0],\n",
    "                     b_rpiracicaba_2015[0],\n",
    "                     b_rparaopeba_2015[0],\n",
    "                     b_rparaiba_2015[0],\n",
    "                     b_rparacatu_2015[0],\n",
    "                     b_rvelhas_2015[0],\n",
    "                     b_rjequitinhonha_2015[0],\n",
    "                     b_ARVG_2015[0],\n",
    "                     b_AMBG_2015[0],\n",
    "                     b_AMMG_2015[0]]\n",
    "lista_nome_2016 = [b_rparanaiba_2016[0], \n",
    "                     b_rsfrancisco_2016[0],\n",
    "                     b_rmucuri_2016[0],\n",
    "                     b_rgrande_2016[0],\n",
    "                     b_rdoce_2016[0],\n",
    "                     b_rpardo_2016[0],\n",
    "                     b_rsantonio_2016[0],\n",
    "                     b_rpiracicaba_2016[0],\n",
    "                     b_rparaopeba_2016[0],\n",
    "                     b_rparaiba_2016[0],\n",
    "                     b_rparacatu_2016[0], \n",
    "                     b_rvelhas_2016[0], \n",
    "                     b_rjequitinhonha_2016[0], \n",
    "                     b_ARVG_2016[0],  \n",
    "                     b_AMMG_2016[0]]"
   ]
  },
  {
   "cell_type": "code",
   "execution_count": 22,
   "metadata": {},
   "outputs": [],
   "source": [
    "lista_media_altura_2015 = []\n",
    "lista_media_vaterro_2015 = []\n",
    "lista_media_vreserv_2015 = []\n",
    "\n",
    "lista_media_altura_2016 = []\n",
    "lista_media_vaterro_2016 = []\n",
    "lista_media_vreserv_2016 = []\n",
    "\n",
    "#Ano 2015\n",
    "for i in range(len(lista_altura_2015)):\n",
    "    lista_altura_2015[i] = np.asarray(lista_altura_2015[i])#Transforma em uma matriz\n",
    "    media = lista_altura_2015[i].mean()\n",
    "    lista_media_altura_2015.append(float(f'{media:.2f}'))\n",
    "    \n",
    "for i in range(len(lista_v_aterro_2015)):\n",
    "    lista_v_aterro_2015[i] = np.asarray(lista_v_aterro_2015[i])\n",
    "    media = lista_v_aterro_2015[i].mean()\n",
    "    lista_media_vaterro_2015.append(float(f'{media:.2f}'))\n",
    "    \n",
    "for i in range(len(lista_v_reserv_2015)):\n",
    "    lista_v_reserv_2015[i] = np.asarray(lista_v_reserv_2015[i])\n",
    "    media = lista_v_reserv_2015[i].mean()\n",
    "    lista_media_vreserv_2015.append(float(f'{media:.2f}'))\n",
    "    \n",
    "#Ano 2016    \n",
    "for i in range(len(lista_altura_2016)):\n",
    "    lista_altura_2016[i] = np.asarray(lista_altura_2016[i])\n",
    "    media = lista_altura_2016[i].mean()\n",
    "    lista_media_altura_2016.append(float(f'{media:.2f}'))\n",
    "    \n",
    "for i in range(len(lista_v_aterro_2016)):\n",
    "    lista_v_aterro_2016[i] = np.asarray(lista_v_aterro_2016[i])\n",
    "    media = lista_v_aterro_2016[i].mean()\n",
    "    lista_media_vaterro_2016.append(float(f'{media:.2f}'))\n",
    "    \n",
    "for i in range(len(lista_v_reserv_2016)):\n",
    "    lista_v_reserv_2016[i] = np.asarray(lista_v_reserv_2016[i])\n",
    "    media = lista_v_reserv_2016[i].mean()\n",
    "    lista_media_vreserv_2016.append(float(f'{media:.2f}'))"
   ]
  },
  {
   "cell_type": "code",
   "execution_count": 23,
   "metadata": {},
   "outputs": [],
   "source": [
    "dic_altmed15 = {'Bacia': lista_nome_2015, 'Altura Média': lista_media_altura_2015} #ok!\n",
    "altura_media_2015 = pd.DataFrame(dic_altmed15, columns = ['Bacia', 'Altura Média'])\n",
    "\n",
    "dic_vate15 = {'Bacia': lista_nome_2015, 'Volume Médio do Aterro': lista_media_vaterro_2015} #ok!\n",
    "aterro_media_2015 = pd.DataFrame(dic_vate15, columns = ['Bacia', 'Volume Médio do Aterro'])\n",
    "\n",
    "dic_vres15 = {'Bacia': lista_nome_2015, 'Volume Médio do Reservatorio': lista_media_vreserv_2015}\n",
    "reserv_media_2015 = pd.DataFrame(dic_vres15, columns = ['Bacia', 'Volume Médio do Reservatorio'])\n",
    "\n",
    "\n",
    "dic_altmed16 = {'Bacia': lista_nome_2016, 'Altura Média': lista_media_altura_2016} #ok!\n",
    "altura_media_2016 = pd.DataFrame(dic_altmed16, columns = ['Bacia', 'Altura Média'])\n",
    "\n",
    "dic_vate16 = {'Bacia': lista_nome_2016, 'Volume Médio do Aterro': lista_media_vaterro_2016} #ok!\n",
    "aterro_media_2016 = pd.DataFrame(dic_vate16, columns = ['Bacia', 'Volume Médio do Aterro'])\n",
    "\n",
    "dic_vres16 = {'Bacia': lista_nome_2016, 'Volume Médio do Reservatorio': lista_media_vreserv_2016}\n",
    "reserv_media_2016 = pd.DataFrame(dic_vres16, columns = ['Bacia', 'Volume Médio do Reservatorio'])"
   ]
  },
  {
   "cell_type": "code",
   "execution_count": 24,
   "metadata": {},
   "outputs": [
    {
     "data": {
      "text/html": [
       "<div>\n",
       "<style scoped>\n",
       "    .dataframe tbody tr th:only-of-type {\n",
       "        vertical-align: middle;\n",
       "    }\n",
       "\n",
       "    .dataframe tbody tr th {\n",
       "        vertical-align: top;\n",
       "    }\n",
       "\n",
       "    .dataframe thead th {\n",
       "        text-align: right;\n",
       "    }\n",
       "</style>\n",
       "<table border=\"1\" class=\"dataframe\">\n",
       "  <thead>\n",
       "    <tr style=\"text-align: right;\">\n",
       "      <th></th>\n",
       "      <th>Bacia</th>\n",
       "      <th>Altura Média</th>\n",
       "    </tr>\n",
       "  </thead>\n",
       "  <tbody>\n",
       "    <tr>\n",
       "      <th>0</th>\n",
       "      <td>Rio Paranaíba</td>\n",
       "      <td>14.47</td>\n",
       "    </tr>\n",
       "    <tr>\n",
       "      <th>1</th>\n",
       "      <td>Rio São Francisco</td>\n",
       "      <td>25.15</td>\n",
       "    </tr>\n",
       "    <tr>\n",
       "      <th>2</th>\n",
       "      <td>Rio Mucuri</td>\n",
       "      <td>3.89</td>\n",
       "    </tr>\n",
       "    <tr>\n",
       "      <th>3</th>\n",
       "      <td>Rio Grande</td>\n",
       "      <td>6.49</td>\n",
       "    </tr>\n",
       "    <tr>\n",
       "      <th>4</th>\n",
       "      <td>Rio Doce</td>\n",
       "      <td>33.89</td>\n",
       "    </tr>\n",
       "    <tr>\n",
       "      <th>5</th>\n",
       "      <td>Rio Pardo</td>\n",
       "      <td>10.38</td>\n",
       "    </tr>\n",
       "    <tr>\n",
       "      <th>6</th>\n",
       "      <td>Rio Santo Antônio</td>\n",
       "      <td>26.00</td>\n",
       "    </tr>\n",
       "    <tr>\n",
       "      <th>7</th>\n",
       "      <td>Rio Piracicaba/Jaguari</td>\n",
       "      <td>16.32</td>\n",
       "    </tr>\n",
       "    <tr>\n",
       "      <th>8</th>\n",
       "      <td>Rio Paraopeba</td>\n",
       "      <td>10.96</td>\n",
       "    </tr>\n",
       "    <tr>\n",
       "      <th>9</th>\n",
       "      <td>Rio Paraíba do Sul</td>\n",
       "      <td>23.19</td>\n",
       "    </tr>\n",
       "    <tr>\n",
       "      <th>10</th>\n",
       "      <td>Rio Paracatu</td>\n",
       "      <td>3.76</td>\n",
       "    </tr>\n",
       "    <tr>\n",
       "      <th>11</th>\n",
       "      <td>Rio das Velhas</td>\n",
       "      <td>24.62</td>\n",
       "    </tr>\n",
       "    <tr>\n",
       "      <th>12</th>\n",
       "      <td>Rio Jequitinhonha</td>\n",
       "      <td>18.50</td>\n",
       "    </tr>\n",
       "    <tr>\n",
       "      <th>13</th>\n",
       "      <td>Afluentes do rio Verde Grande</td>\n",
       "      <td>17.84</td>\n",
       "    </tr>\n",
       "    <tr>\n",
       "      <th>14</th>\n",
       "      <td>Afluentes mineiros do Baixo Grande</td>\n",
       "      <td>9.50</td>\n",
       "    </tr>\n",
       "    <tr>\n",
       "      <th>15</th>\n",
       "      <td>Afluentes mineiros do Médio Grande</td>\n",
       "      <td>16.00</td>\n",
       "    </tr>\n",
       "  </tbody>\n",
       "</table>\n",
       "</div>"
      ],
      "text/plain": [
       "                                 Bacia  Altura Média\n",
       "0                        Rio Paranaíba         14.47\n",
       "1                    Rio São Francisco         25.15\n",
       "2                           Rio Mucuri          3.89\n",
       "3                           Rio Grande          6.49\n",
       "4                             Rio Doce         33.89\n",
       "5                            Rio Pardo         10.38\n",
       "6                    Rio Santo Antônio         26.00\n",
       "7               Rio Piracicaba/Jaguari         16.32\n",
       "8                        Rio Paraopeba         10.96\n",
       "9                   Rio Paraíba do Sul         23.19\n",
       "10                        Rio Paracatu          3.76\n",
       "11                      Rio das Velhas         24.62\n",
       "12                   Rio Jequitinhonha         18.50\n",
       "13       Afluentes do rio Verde Grande         17.84\n",
       "14  Afluentes mineiros do Baixo Grande          9.50\n",
       "15  Afluentes mineiros do Médio Grande         16.00"
      ]
     },
     "execution_count": 24,
     "metadata": {},
     "output_type": "execute_result"
    }
   ],
   "source": [
    "altura_media_2015"
   ]
  },
  {
   "cell_type": "code",
   "execution_count": 25,
   "metadata": {},
   "outputs": [
    {
     "data": {
      "text/html": [
       "<div>\n",
       "<style scoped>\n",
       "    .dataframe tbody tr th:only-of-type {\n",
       "        vertical-align: middle;\n",
       "    }\n",
       "\n",
       "    .dataframe tbody tr th {\n",
       "        vertical-align: top;\n",
       "    }\n",
       "\n",
       "    .dataframe thead th {\n",
       "        text-align: right;\n",
       "    }\n",
       "</style>\n",
       "<table border=\"1\" class=\"dataframe\">\n",
       "  <thead>\n",
       "    <tr style=\"text-align: right;\">\n",
       "      <th></th>\n",
       "      <th>Bacia</th>\n",
       "      <th>Volume Médio do Aterro</th>\n",
       "    </tr>\n",
       "  </thead>\n",
       "  <tbody>\n",
       "    <tr>\n",
       "      <th>0</th>\n",
       "      <td>Rio Paranaíba</td>\n",
       "      <td>325754.16</td>\n",
       "    </tr>\n",
       "    <tr>\n",
       "      <th>1</th>\n",
       "      <td>Rio São Francisco</td>\n",
       "      <td>524711.33</td>\n",
       "    </tr>\n",
       "    <tr>\n",
       "      <th>2</th>\n",
       "      <td>Rio Mucuri</td>\n",
       "      <td>8702.86</td>\n",
       "    </tr>\n",
       "    <tr>\n",
       "      <th>3</th>\n",
       "      <td>Rio Grande</td>\n",
       "      <td>80521.28</td>\n",
       "    </tr>\n",
       "    <tr>\n",
       "      <th>4</th>\n",
       "      <td>Rio Doce</td>\n",
       "      <td>468267.55</td>\n",
       "    </tr>\n",
       "    <tr>\n",
       "      <th>5</th>\n",
       "      <td>Rio Pardo</td>\n",
       "      <td>209048.33</td>\n",
       "    </tr>\n",
       "    <tr>\n",
       "      <th>6</th>\n",
       "      <td>Rio Santo Antônio</td>\n",
       "      <td>691773.35</td>\n",
       "    </tr>\n",
       "    <tr>\n",
       "      <th>7</th>\n",
       "      <td>Rio Piracicaba/Jaguari</td>\n",
       "      <td>40509.09</td>\n",
       "    </tr>\n",
       "    <tr>\n",
       "      <th>8</th>\n",
       "      <td>Rio Paraopeba</td>\n",
       "      <td>102640.86</td>\n",
       "    </tr>\n",
       "    <tr>\n",
       "      <th>9</th>\n",
       "      <td>Rio Paraíba do Sul</td>\n",
       "      <td>388741.62</td>\n",
       "    </tr>\n",
       "    <tr>\n",
       "      <th>10</th>\n",
       "      <td>Rio Paracatu</td>\n",
       "      <td>1335.71</td>\n",
       "    </tr>\n",
       "    <tr>\n",
       "      <th>11</th>\n",
       "      <td>Rio das Velhas</td>\n",
       "      <td>270020.70</td>\n",
       "    </tr>\n",
       "    <tr>\n",
       "      <th>12</th>\n",
       "      <td>Rio Jequitinhonha</td>\n",
       "      <td>81116.67</td>\n",
       "    </tr>\n",
       "    <tr>\n",
       "      <th>13</th>\n",
       "      <td>Afluentes do rio Verde Grande</td>\n",
       "      <td>541231.00</td>\n",
       "    </tr>\n",
       "    <tr>\n",
       "      <th>14</th>\n",
       "      <td>Afluentes mineiros do Baixo Grande</td>\n",
       "      <td>240000.00</td>\n",
       "    </tr>\n",
       "    <tr>\n",
       "      <th>15</th>\n",
       "      <td>Afluentes mineiros do Médio Grande</td>\n",
       "      <td>390000.00</td>\n",
       "    </tr>\n",
       "  </tbody>\n",
       "</table>\n",
       "</div>"
      ],
      "text/plain": [
       "                                 Bacia  Volume Médio do Aterro\n",
       "0                        Rio Paranaíba               325754.16\n",
       "1                    Rio São Francisco               524711.33\n",
       "2                           Rio Mucuri                 8702.86\n",
       "3                           Rio Grande                80521.28\n",
       "4                             Rio Doce               468267.55\n",
       "5                            Rio Pardo               209048.33\n",
       "6                    Rio Santo Antônio               691773.35\n",
       "7               Rio Piracicaba/Jaguari                40509.09\n",
       "8                        Rio Paraopeba               102640.86\n",
       "9                   Rio Paraíba do Sul               388741.62\n",
       "10                        Rio Paracatu                 1335.71\n",
       "11                      Rio das Velhas               270020.70\n",
       "12                   Rio Jequitinhonha                81116.67\n",
       "13       Afluentes do rio Verde Grande               541231.00\n",
       "14  Afluentes mineiros do Baixo Grande               240000.00\n",
       "15  Afluentes mineiros do Médio Grande               390000.00"
      ]
     },
     "execution_count": 25,
     "metadata": {},
     "output_type": "execute_result"
    }
   ],
   "source": [
    "aterro_media_2015"
   ]
  },
  {
   "cell_type": "code",
   "execution_count": 26,
   "metadata": {},
   "outputs": [
    {
     "data": {
      "text/html": [
       "<div>\n",
       "<style scoped>\n",
       "    .dataframe tbody tr th:only-of-type {\n",
       "        vertical-align: middle;\n",
       "    }\n",
       "\n",
       "    .dataframe tbody tr th {\n",
       "        vertical-align: top;\n",
       "    }\n",
       "\n",
       "    .dataframe thead th {\n",
       "        text-align: right;\n",
       "    }\n",
       "</style>\n",
       "<table border=\"1\" class=\"dataframe\">\n",
       "  <thead>\n",
       "    <tr style=\"text-align: right;\">\n",
       "      <th></th>\n",
       "      <th>Bacia</th>\n",
       "      <th>Volume Médio do Reservatorio</th>\n",
       "    </tr>\n",
       "  </thead>\n",
       "  <tbody>\n",
       "    <tr>\n",
       "      <th>0</th>\n",
       "      <td>Rio Paranaíba</td>\n",
       "      <td>5145843.18</td>\n",
       "    </tr>\n",
       "    <tr>\n",
       "      <th>1</th>\n",
       "      <td>Rio São Francisco</td>\n",
       "      <td>3933579.02</td>\n",
       "    </tr>\n",
       "    <tr>\n",
       "      <th>2</th>\n",
       "      <td>Rio Mucuri</td>\n",
       "      <td>17921.43</td>\n",
       "    </tr>\n",
       "    <tr>\n",
       "      <th>3</th>\n",
       "      <td>Rio Grande</td>\n",
       "      <td>317503.26</td>\n",
       "    </tr>\n",
       "    <tr>\n",
       "      <th>4</th>\n",
       "      <td>Rio Doce</td>\n",
       "      <td>8590781.16</td>\n",
       "    </tr>\n",
       "    <tr>\n",
       "      <th>5</th>\n",
       "      <td>Rio Pardo</td>\n",
       "      <td>980500.00</td>\n",
       "    </tr>\n",
       "    <tr>\n",
       "      <th>6</th>\n",
       "      <td>Rio Santo Antônio</td>\n",
       "      <td>20159200.00</td>\n",
       "    </tr>\n",
       "    <tr>\n",
       "      <th>7</th>\n",
       "      <td>Rio Piracicaba/Jaguari</td>\n",
       "      <td>226779.34</td>\n",
       "    </tr>\n",
       "    <tr>\n",
       "      <th>8</th>\n",
       "      <td>Rio Paraopeba</td>\n",
       "      <td>488956.10</td>\n",
       "    </tr>\n",
       "    <tr>\n",
       "      <th>9</th>\n",
       "      <td>Rio Paraíba do Sul</td>\n",
       "      <td>2373838.88</td>\n",
       "    </tr>\n",
       "    <tr>\n",
       "      <th>10</th>\n",
       "      <td>Rio Paracatu</td>\n",
       "      <td>4442.86</td>\n",
       "    </tr>\n",
       "    <tr>\n",
       "      <th>11</th>\n",
       "      <td>Rio das Velhas</td>\n",
       "      <td>719318.20</td>\n",
       "    </tr>\n",
       "    <tr>\n",
       "      <th>12</th>\n",
       "      <td>Rio Jequitinhonha</td>\n",
       "      <td>3363479.17</td>\n",
       "    </tr>\n",
       "    <tr>\n",
       "      <th>13</th>\n",
       "      <td>Afluentes do rio Verde Grande</td>\n",
       "      <td>1539709.00</td>\n",
       "    </tr>\n",
       "    <tr>\n",
       "      <th>14</th>\n",
       "      <td>Afluentes mineiros do Baixo Grande</td>\n",
       "      <td>400000.00</td>\n",
       "    </tr>\n",
       "    <tr>\n",
       "      <th>15</th>\n",
       "      <td>Afluentes mineiros do Médio Grande</td>\n",
       "      <td>1020757.00</td>\n",
       "    </tr>\n",
       "  </tbody>\n",
       "</table>\n",
       "</div>"
      ],
      "text/plain": [
       "                                 Bacia  Volume Médio do Reservatorio\n",
       "0                        Rio Paranaíba                    5145843.18\n",
       "1                    Rio São Francisco                    3933579.02\n",
       "2                           Rio Mucuri                      17921.43\n",
       "3                           Rio Grande                     317503.26\n",
       "4                             Rio Doce                    8590781.16\n",
       "5                            Rio Pardo                     980500.00\n",
       "6                    Rio Santo Antônio                   20159200.00\n",
       "7               Rio Piracicaba/Jaguari                     226779.34\n",
       "8                        Rio Paraopeba                     488956.10\n",
       "9                   Rio Paraíba do Sul                    2373838.88\n",
       "10                        Rio Paracatu                       4442.86\n",
       "11                      Rio das Velhas                     719318.20\n",
       "12                   Rio Jequitinhonha                    3363479.17\n",
       "13       Afluentes do rio Verde Grande                    1539709.00\n",
       "14  Afluentes mineiros do Baixo Grande                     400000.00\n",
       "15  Afluentes mineiros do Médio Grande                    1020757.00"
      ]
     },
     "execution_count": 26,
     "metadata": {},
     "output_type": "execute_result"
    }
   ],
   "source": [
    "reserv_media_2015"
   ]
  },
  {
   "cell_type": "code",
   "execution_count": 27,
   "metadata": {},
   "outputs": [
    {
     "data": {
      "text/html": [
       "<div>\n",
       "<style scoped>\n",
       "    .dataframe tbody tr th:only-of-type {\n",
       "        vertical-align: middle;\n",
       "    }\n",
       "\n",
       "    .dataframe tbody tr th {\n",
       "        vertical-align: top;\n",
       "    }\n",
       "\n",
       "    .dataframe thead th {\n",
       "        text-align: right;\n",
       "    }\n",
       "</style>\n",
       "<table border=\"1\" class=\"dataframe\">\n",
       "  <thead>\n",
       "    <tr style=\"text-align: right;\">\n",
       "      <th></th>\n",
       "      <th>Bacia</th>\n",
       "      <th>Altura Média</th>\n",
       "    </tr>\n",
       "  </thead>\n",
       "  <tbody>\n",
       "    <tr>\n",
       "      <th>0</th>\n",
       "      <td>Rio Paranaíba</td>\n",
       "      <td>14.27</td>\n",
       "    </tr>\n",
       "    <tr>\n",
       "      <th>1</th>\n",
       "      <td>Rio São Francisco</td>\n",
       "      <td>19.89</td>\n",
       "    </tr>\n",
       "    <tr>\n",
       "      <th>2</th>\n",
       "      <td>Rio Mucuri</td>\n",
       "      <td>4.10</td>\n",
       "    </tr>\n",
       "    <tr>\n",
       "      <th>3</th>\n",
       "      <td>Rio Grande</td>\n",
       "      <td>5.93</td>\n",
       "    </tr>\n",
       "    <tr>\n",
       "      <th>4</th>\n",
       "      <td>Rio Doce</td>\n",
       "      <td>21.90</td>\n",
       "    </tr>\n",
       "    <tr>\n",
       "      <th>5</th>\n",
       "      <td>Rio Pardo</td>\n",
       "      <td>10.38</td>\n",
       "    </tr>\n",
       "    <tr>\n",
       "      <th>6</th>\n",
       "      <td>Rio Santo Antônio</td>\n",
       "      <td>26.00</td>\n",
       "    </tr>\n",
       "    <tr>\n",
       "      <th>7</th>\n",
       "      <td>Rio Piracicaba</td>\n",
       "      <td>20.40</td>\n",
       "    </tr>\n",
       "    <tr>\n",
       "      <th>8</th>\n",
       "      <td>Rio Paraopeba</td>\n",
       "      <td>10.56</td>\n",
       "    </tr>\n",
       "    <tr>\n",
       "      <th>9</th>\n",
       "      <td>Rio Paraíba do Sul</td>\n",
       "      <td>21.31</td>\n",
       "    </tr>\n",
       "    <tr>\n",
       "      <th>10</th>\n",
       "      <td>Rio Paracatu</td>\n",
       "      <td>3.76</td>\n",
       "    </tr>\n",
       "    <tr>\n",
       "      <th>11</th>\n",
       "      <td>Rio das Velhas</td>\n",
       "      <td>25.28</td>\n",
       "    </tr>\n",
       "    <tr>\n",
       "      <th>12</th>\n",
       "      <td>Rio Jequitinhonha</td>\n",
       "      <td>20.58</td>\n",
       "    </tr>\n",
       "    <tr>\n",
       "      <th>13</th>\n",
       "      <td>Afluentes do rio Verde Grande</td>\n",
       "      <td>33.00</td>\n",
       "    </tr>\n",
       "    <tr>\n",
       "      <th>14</th>\n",
       "      <td>Afluentes mineiros do Médio Grande</td>\n",
       "      <td>16.00</td>\n",
       "    </tr>\n",
       "  </tbody>\n",
       "</table>\n",
       "</div>"
      ],
      "text/plain": [
       "                                 Bacia  Altura Média\n",
       "0                        Rio Paranaíba         14.27\n",
       "1                    Rio São Francisco         19.89\n",
       "2                           Rio Mucuri          4.10\n",
       "3                           Rio Grande          5.93\n",
       "4                             Rio Doce         21.90\n",
       "5                            Rio Pardo         10.38\n",
       "6                    Rio Santo Antônio         26.00\n",
       "7                       Rio Piracicaba         20.40\n",
       "8                        Rio Paraopeba         10.56\n",
       "9                   Rio Paraíba do Sul         21.31\n",
       "10                        Rio Paracatu          3.76\n",
       "11                      Rio das Velhas         25.28\n",
       "12                   Rio Jequitinhonha         20.58\n",
       "13       Afluentes do rio Verde Grande         33.00\n",
       "14  Afluentes mineiros do Médio Grande         16.00"
      ]
     },
     "execution_count": 27,
     "metadata": {},
     "output_type": "execute_result"
    }
   ],
   "source": [
    "altura_media_2016"
   ]
  },
  {
   "cell_type": "code",
   "execution_count": 28,
   "metadata": {},
   "outputs": [
    {
     "data": {
      "text/html": [
       "<div>\n",
       "<style scoped>\n",
       "    .dataframe tbody tr th:only-of-type {\n",
       "        vertical-align: middle;\n",
       "    }\n",
       "\n",
       "    .dataframe tbody tr th {\n",
       "        vertical-align: top;\n",
       "    }\n",
       "\n",
       "    .dataframe thead th {\n",
       "        text-align: right;\n",
       "    }\n",
       "</style>\n",
       "<table border=\"1\" class=\"dataframe\">\n",
       "  <thead>\n",
       "    <tr style=\"text-align: right;\">\n",
       "      <th></th>\n",
       "      <th>Bacia</th>\n",
       "      <th>Volume Médio do Aterro</th>\n",
       "    </tr>\n",
       "  </thead>\n",
       "  <tbody>\n",
       "    <tr>\n",
       "      <th>0</th>\n",
       "      <td>Rio Paranaíba</td>\n",
       "      <td>309804.82</td>\n",
       "    </tr>\n",
       "    <tr>\n",
       "      <th>1</th>\n",
       "      <td>Rio São Francisco</td>\n",
       "      <td>553061.67</td>\n",
       "    </tr>\n",
       "    <tr>\n",
       "      <th>2</th>\n",
       "      <td>Rio Mucuri</td>\n",
       "      <td>10760.00</td>\n",
       "    </tr>\n",
       "    <tr>\n",
       "      <th>3</th>\n",
       "      <td>Rio Grande</td>\n",
       "      <td>78542.36</td>\n",
       "    </tr>\n",
       "    <tr>\n",
       "      <th>4</th>\n",
       "      <td>Rio Doce</td>\n",
       "      <td>436925.78</td>\n",
       "    </tr>\n",
       "    <tr>\n",
       "      <th>5</th>\n",
       "      <td>Rio Pardo</td>\n",
       "      <td>209048.33</td>\n",
       "    </tr>\n",
       "    <tr>\n",
       "      <th>6</th>\n",
       "      <td>Rio Santo Antônio</td>\n",
       "      <td>691773.35</td>\n",
       "    </tr>\n",
       "    <tr>\n",
       "      <th>7</th>\n",
       "      <td>Rio Piracicaba</td>\n",
       "      <td>147292.92</td>\n",
       "    </tr>\n",
       "    <tr>\n",
       "      <th>8</th>\n",
       "      <td>Rio Paraopeba</td>\n",
       "      <td>124820.50</td>\n",
       "    </tr>\n",
       "    <tr>\n",
       "      <th>9</th>\n",
       "      <td>Rio Paraíba do Sul</td>\n",
       "      <td>348881.44</td>\n",
       "    </tr>\n",
       "    <tr>\n",
       "      <th>10</th>\n",
       "      <td>Rio Paracatu</td>\n",
       "      <td>1335.71</td>\n",
       "    </tr>\n",
       "    <tr>\n",
       "      <th>11</th>\n",
       "      <td>Rio das Velhas</td>\n",
       "      <td>242353.89</td>\n",
       "    </tr>\n",
       "    <tr>\n",
       "      <th>12</th>\n",
       "      <td>Rio Jequitinhonha</td>\n",
       "      <td>86450.00</td>\n",
       "    </tr>\n",
       "    <tr>\n",
       "      <th>13</th>\n",
       "      <td>Afluentes do rio Verde Grande</td>\n",
       "      <td>560000.00</td>\n",
       "    </tr>\n",
       "    <tr>\n",
       "      <th>14</th>\n",
       "      <td>Afluentes mineiros do Médio Grande</td>\n",
       "      <td>390000.00</td>\n",
       "    </tr>\n",
       "  </tbody>\n",
       "</table>\n",
       "</div>"
      ],
      "text/plain": [
       "                                 Bacia  Volume Médio do Aterro\n",
       "0                        Rio Paranaíba               309804.82\n",
       "1                    Rio São Francisco               553061.67\n",
       "2                           Rio Mucuri                10760.00\n",
       "3                           Rio Grande                78542.36\n",
       "4                             Rio Doce               436925.78\n",
       "5                            Rio Pardo               209048.33\n",
       "6                    Rio Santo Antônio               691773.35\n",
       "7                       Rio Piracicaba               147292.92\n",
       "8                        Rio Paraopeba               124820.50\n",
       "9                   Rio Paraíba do Sul               348881.44\n",
       "10                        Rio Paracatu                 1335.71\n",
       "11                      Rio das Velhas               242353.89\n",
       "12                   Rio Jequitinhonha                86450.00\n",
       "13       Afluentes do rio Verde Grande               560000.00\n",
       "14  Afluentes mineiros do Médio Grande               390000.00"
      ]
     },
     "execution_count": 28,
     "metadata": {},
     "output_type": "execute_result"
    }
   ],
   "source": [
    "aterro_media_2016"
   ]
  },
  {
   "cell_type": "code",
   "execution_count": 29,
   "metadata": {},
   "outputs": [
    {
     "data": {
      "text/html": [
       "<div>\n",
       "<style scoped>\n",
       "    .dataframe tbody tr th:only-of-type {\n",
       "        vertical-align: middle;\n",
       "    }\n",
       "\n",
       "    .dataframe tbody tr th {\n",
       "        vertical-align: top;\n",
       "    }\n",
       "\n",
       "    .dataframe thead th {\n",
       "        text-align: right;\n",
       "    }\n",
       "</style>\n",
       "<table border=\"1\" class=\"dataframe\">\n",
       "  <thead>\n",
       "    <tr style=\"text-align: right;\">\n",
       "      <th></th>\n",
       "      <th>Bacia</th>\n",
       "      <th>Volume Médio do Reservatorio</th>\n",
       "    </tr>\n",
       "  </thead>\n",
       "  <tbody>\n",
       "    <tr>\n",
       "      <th>0</th>\n",
       "      <td>Rio Paranaíba</td>\n",
       "      <td>4892922.83</td>\n",
       "    </tr>\n",
       "    <tr>\n",
       "      <th>1</th>\n",
       "      <td>Rio São Francisco</td>\n",
       "      <td>4151492.58</td>\n",
       "    </tr>\n",
       "    <tr>\n",
       "      <th>2</th>\n",
       "      <td>Rio Mucuri</td>\n",
       "      <td>20840.00</td>\n",
       "    </tr>\n",
       "    <tr>\n",
       "      <th>3</th>\n",
       "      <td>Rio Grande</td>\n",
       "      <td>480290.59</td>\n",
       "    </tr>\n",
       "    <tr>\n",
       "      <th>4</th>\n",
       "      <td>Rio Doce</td>\n",
       "      <td>7346635.02</td>\n",
       "    </tr>\n",
       "    <tr>\n",
       "      <th>5</th>\n",
       "      <td>Rio Pardo</td>\n",
       "      <td>980500.00</td>\n",
       "    </tr>\n",
       "    <tr>\n",
       "      <th>6</th>\n",
       "      <td>Rio Santo Antônio</td>\n",
       "      <td>20159200.00</td>\n",
       "    </tr>\n",
       "    <tr>\n",
       "      <th>7</th>\n",
       "      <td>Rio Piracicaba</td>\n",
       "      <td>988059.38</td>\n",
       "    </tr>\n",
       "    <tr>\n",
       "      <th>8</th>\n",
       "      <td>Rio Paraopeba</td>\n",
       "      <td>445370.46</td>\n",
       "    </tr>\n",
       "    <tr>\n",
       "      <th>9</th>\n",
       "      <td>Rio Paraíba do Sul</td>\n",
       "      <td>2321190.11</td>\n",
       "    </tr>\n",
       "    <tr>\n",
       "      <th>10</th>\n",
       "      <td>Rio Paracatu</td>\n",
       "      <td>4442.86</td>\n",
       "    </tr>\n",
       "    <tr>\n",
       "      <th>11</th>\n",
       "      <td>Rio das Velhas</td>\n",
       "      <td>650710.34</td>\n",
       "    </tr>\n",
       "    <tr>\n",
       "      <th>12</th>\n",
       "      <td>Rio Jequitinhonha</td>\n",
       "      <td>3421812.50</td>\n",
       "    </tr>\n",
       "    <tr>\n",
       "      <th>13</th>\n",
       "      <td>Afluentes do rio Verde Grande</td>\n",
       "      <td>2199961.00</td>\n",
       "    </tr>\n",
       "    <tr>\n",
       "      <th>14</th>\n",
       "      <td>Afluentes mineiros do Médio Grande</td>\n",
       "      <td>1020757.00</td>\n",
       "    </tr>\n",
       "  </tbody>\n",
       "</table>\n",
       "</div>"
      ],
      "text/plain": [
       "                                 Bacia  Volume Médio do Reservatorio\n",
       "0                        Rio Paranaíba                    4892922.83\n",
       "1                    Rio São Francisco                    4151492.58\n",
       "2                           Rio Mucuri                      20840.00\n",
       "3                           Rio Grande                     480290.59\n",
       "4                             Rio Doce                    7346635.02\n",
       "5                            Rio Pardo                     980500.00\n",
       "6                    Rio Santo Antônio                   20159200.00\n",
       "7                       Rio Piracicaba                     988059.38\n",
       "8                        Rio Paraopeba                     445370.46\n",
       "9                   Rio Paraíba do Sul                    2321190.11\n",
       "10                        Rio Paracatu                       4442.86\n",
       "11                      Rio das Velhas                     650710.34\n",
       "12                   Rio Jequitinhonha                    3421812.50\n",
       "13       Afluentes do rio Verde Grande                    2199961.00\n",
       "14  Afluentes mineiros do Médio Grande                    1020757.00"
      ]
     },
     "execution_count": 29,
     "metadata": {},
     "output_type": "execute_result"
    }
   ],
   "source": [
    "reserv_media_2016"
   ]
  },
  {
   "cell_type": "code",
   "execution_count": 30,
   "metadata": {},
   "outputs": [
    {
     "data": {
      "text/plain": [
       "Text(0,0.5,'Altura Média')"
      ]
     },
     "execution_count": 30,
     "metadata": {},
     "output_type": "execute_result"
    },
    {
     "data": {
      "image/png": "[encoded data removed]",
      "text/plain": [
       "<Figure size 432x288 with 1 Axes>"
      ]
     },
     "metadata": {},
     "output_type": "display_data"
    }
   ],
   "source": [
    "number = np.arange(16)\n",
    "plt.bar(number, altura_media_2015[altura_media_2015.columns[1]], color = 'green')\n",
    "plt.title('Altura Média das Barragens Mineiras por Bacia')\n",
    "plt.xlabel('Index da respectiva Bacia no DataFrame')\n",
    "plt.ylabel('Altura Média')"
   ]
  },
  {
   "cell_type": "code",
   "execution_count": 31,
   "metadata": {},
   "outputs": [
    {
     "data": {
      "text/plain": [
       "Text(0,0.5,'Volume de Aterro Médio')"
      ]
     },
     "execution_count": 31,
     "metadata": {},
     "output_type": "execute_result"
    },
    {
     "data": {
      "image/png": "[encoded data removed]",
      "text/plain": [
       "<Figure size 432x288 with 1 Axes>"
      ]
     },
     "metadata": {},
     "output_type": "display_data"
    }
   ],
   "source": [
    "plt.bar(number, aterro_media_2015[aterro_media_2015.columns[1]])\n",
    "plt.title('Volume Médio de Aterro das Barragens Mineiras por Bacia')\n",
    "plt.xlabel('Index da respectiva Bacia no DataFrame')\n",
    "plt.ylabel('Volume de Aterro Médio')"
   ]
  },
  {
   "cell_type": "code",
   "execution_count": 32,
   "metadata": {},
   "outputs": [
    {
     "data": {
      "text/plain": [
       "Text(0,0.5,'Volume de Reservatório Médio')"
      ]
     },
     "execution_count": 32,
     "metadata": {},
     "output_type": "execute_result"
    },
    {
     "data": {
      "image/png": "[encoded data removed]",
      "text/plain": [
       "<Figure size 432x288 with 1 Axes>"
      ]
     },
     "metadata": {},
     "output_type": "display_data"
    }
   ],
   "source": [
    "idx = np.arange(16)\n",
    "fig, ax = plt.subplots()\n",
    "ax.bar(idx, tuple(reserv_media_2015[reserv_media_2015.columns[1]]), 0.6, color = ('purple'))\n",
    "ax.set_title('Volume Médio de Reservatório das Barragens Mineiras por Bacia', y = 1.05)\n",
    "ax.set_xlabel('Index da respectiva Bacia no DataFrame')\n",
    "ax.set_xticks(idx)\n",
    "y = np.arange(4442.86, 20159200.00,1259672.321)\n",
    "ax.set_yticks(y)\n",
    "ax.set_ylabel('Volume de Reservatório Médio')"
   ]
  },
  {
   "cell_type": "code",
   "execution_count": 33,
   "metadata": {},
   "outputs": [
    {
     "data": {
      "text/plain": [
       "Text(0,0.5,'Altura Média')"
      ]
     },
     "execution_count": 33,
     "metadata": {},
     "output_type": "execute_result"
    },
    {
     "data": {
      "image/png": "[encoded data removed]",
      "text/plain": [
       "<Figure size 432x288 with 1 Axes>"
      ]
     },
     "metadata": {},
     "output_type": "display_data"
    }
   ],
   "source": [
    "number = list(range(15))\n",
    "plt.bar(number, altura_media_2016[altura_media_2016.columns[1]], color = 'green')\n",
    "plt.title('Altura Média das Barragens Mineiras por Bacia')\n",
    "plt.xlabel('Index da respectiva Bacia no DataFrame')\n",
    "plt.ylabel('Altura Média')"
   ]
  },
  {
   "cell_type": "code",
   "execution_count": 34,
   "metadata": {},
   "outputs": [
    {
     "data": {
      "text/plain": [
       "Text(0,0.5,'Volume de Aterro Médio')"
      ]
     },
     "execution_count": 34,
     "metadata": {},
     "output_type": "execute_result"
    },
    {
     "data": {
      "image/png": "[encoded data removed]",
      "text/plain": [
       "<Figure size 432x288 with 1 Axes>"
      ]
     },
     "metadata": {},
     "output_type": "display_data"
    }
   ],
   "source": [
    "plt.bar(number, aterro_media_2016[aterro_media_2016.columns[1]])\n",
    "plt.title('Volume Médio de Aterro das Barragens Mineiras por Bacia')\n",
    "plt.xlabel('Index da respectiva Bacia no DataFrame')\n",
    "plt.ylabel('Volume de Aterro Médio')"
   ]
  },
  {
   "cell_type": "code",
   "execution_count": 35,
   "metadata": {},
   "outputs": [
    {
     "data": {
      "text/plain": [
       "Text(0,0.5,'Volume de Reservatório Médio')"
      ]
     },
     "execution_count": 35,
     "metadata": {},
     "output_type": "execute_result"
    },
    {
     "data": {
      "image/png": "[encoded data removed]",
      "text/plain": [
       "<Figure size 432x288 with 1 Axes>"
      ]
     },
     "metadata": {},
     "output_type": "display_data"
    }
   ],
   "source": [
    "idx = np.arange(15)\n",
    "fig, ax = plt.subplots()\n",
    "ax.bar(idx, tuple(reserv_media_2016[reserv_media_2016.columns[1]]), 0.6, color = ('purple'))\n",
    "ax.set_title('Volume Médio de Reservatório das Barragens Mineiras por Bacia', y = 1.05)\n",
    "ax.set_xlabel('Index da respectiva Bacia no DataFrame')\n",
    "ax.set_xticks(idx)\n",
    "y = np.arange(4442.86, 20159200.00,1343650.476)\n",
    "ax.set_yticks(y)\n",
    "ax.set_ylabel('Volume de Reservatório Médio')"
   ]
  },
  {
   "cell_type": "code",
   "execution_count": 126,
   "metadata": {},
   "outputs": [
    {
     "data": {
      "image/png": "[encoded data removed]",
      "text/plain": [
       "<Figure size 432x288 with 1 Axes>"
      ]
     },
     "metadata": {},
     "output_type": "display_data"
    }
   ],
   "source": [
    "try:\n",
    "    lista_media_altura_2015.remove(9.50)\n",
    "    lista_media_vaterro_2015.remove(240000.00)\n",
    "    lista_media_vreserv_2015.remove(400000.00)\n",
    "except:\n",
    "    pass\n",
    "name = lista_nome_2016\n",
    "idx = np.arange(15)\n",
    "fig, ax = plt.subplots(1)\n",
    "r1 = ax.barh(idx,lista_media_altura_2015, 0.35, color = 'red', label = '2015')\n",
    "r2 = ax.barh(idx+0.35,lista_media_altura_2016, 0.35, color = 'blue', label = '2016')\n",
    "ax.set_yticks(idx+ 0.35/2)\n",
    "ax.set_yticklabels(name, rotation = 0 , fontdict = {'fontsize': 7,'fontweight': 10})\n",
    "ax.set_xlabel('Altura [m]')\n",
    "ax.legend(loc = 'best')\n",
    "fig.tight_layout()\n",
    "#plt.savefig('Altura_Média.png')"
   ]
  },
  {
   "cell_type": "code",
   "execution_count": 130,
   "metadata": {},
   "outputs": [
    {
     "data": {
      "image/png": "[encoded data removed]",
      "text/plain": [
       "<Figure size 432x288 with 1 Axes>"
      ]
     },
     "metadata": {},
     "output_type": "display_data"
    }
   ],
   "source": [
    "idx = np.arange(15)\n",
    "fig, ax = plt.subplots()\n",
    "r1 = ax.barh(idx,lista_media_vaterro_2015, 0.35, color = 'cyan', label = '2015')\n",
    "r2 = ax.barh(idx+0.35,lista_media_vaterro_2016, 0.35, color = 'green', label = '2016')\n",
    "ax.set_yticks(idx+ 0.35/2)\n",
    "ax.set_yticklabels(name, rotation = 0 , fontdict = {'fontsize': 7,'fontweight': 10})\n",
    "ax.set_xticklabels([0, 0.1, 0.2, 0.3, 0.4, 0.5, 0.6, 0.7])\n",
    "ax.set_xlabel('Volume de Aterro [Mm³]')\n",
    "ax.legend(loc = 'best')\n",
    "fig.tight_layout()\n",
    "#plt.savefig('Aterro.png')"
   ]
  },
  {
   "cell_type": "code",
   "execution_count": 131,
   "metadata": {},
   "outputs": [
    {
     "data": {
      "image/png": "[encoded data removed]",
      "text/plain": [
       "<Figure size 432x288 with 1 Axes>"
      ]
     },
     "metadata": {},
     "output_type": "display_data"
    }
   ],
   "source": [
    "idx = np.arange(15)\n",
    "fig, ax = plt.subplots()\n",
    "r1 = ax.barh(idx,lista_media_vreserv_2015, 0.35, color = 'purple', label = '2015')\n",
    "r2 = ax.barh(idx+0.35,lista_media_vreserv_2016, 0.35, color = 'orange', label = '2016')\n",
    "ax.set_yticks(idx+ 0.35/2)\n",
    "ax.set_yticklabels(name, rotation = 0 , fontdict = {'fontsize': 7,'fontweight': 10})\n",
    "ax.set_xlabel('Volume de Reservatório [Mm³]')\n",
    "ax.set_xticklabels([0, 2.5, 5, 7.5, 10, 12.5, 15, 17.5, 20])\n",
    "ax.legend(loc = 'best')\n",
    "fig.tight_layout()\n",
    "#plt.savefig('Reservatorio.png')"
   ]
  },
  {
   "cell_type": "code",
   "execution_count": 40,
   "metadata": {},
   "outputs": [
    {
     "data": {
      "text/plain": [
       "15"
      ]
     },
     "execution_count": 40,
     "metadata": {},
     "output_type": "execute_result"
    }
   ],
   "source": [
    "len(lista_media_altura_2015)"
   ]
  },
  {
   "cell_type": "code",
   "execution_count": 41,
   "metadata": {},
   "outputs": [
    {
     "data": {
      "text/plain": [
       "15"
      ]
     },
     "execution_count": 41,
     "metadata": {},
     "output_type": "execute_result"
    }
   ],
   "source": [
    "len(lista_media_altura_2016)"
   ]
  },
  {
   "cell_type": "code",
   "execution_count": 42,
   "metadata": {
    "scrolled": true
   },
   "outputs": [],
   "source": [
    "porce_altura = ((np.asarray(lista_media_altura_2016) - np.asarray(lista_media_altura_2015))/np.asarray(lista_media_altura_2016))*100"
   ]
  },
  {
   "cell_type": "code",
   "execution_count": 43,
   "metadata": {},
   "outputs": [],
   "source": [
    "df_pc_altura = pd.DataFrame({'Bacia': lista_nome_2016, 'Crescimento Médio de Altura': porce_altura})"
   ]
  },
  {
   "cell_type": "code",
   "execution_count": 44,
   "metadata": {},
   "outputs": [
    {
     "name": "stdout",
     "output_type": "stream",
     "text": [
      "                                 Bacia  Crescimento Médio de Altura\n",
      "0                        Rio Paranaíba                    -1.401542\n",
      "1                    Rio São Francisco                   -26.445450\n",
      "2                           Rio Mucuri                     5.121951\n",
      "3                           Rio Grande                    -9.443508\n",
      "4                             Rio Doce                   -54.748858\n",
      "5                            Rio Pardo                     0.000000\n",
      "6                    Rio Santo Antônio                     0.000000\n",
      "7                       Rio Piracicaba                    20.000000\n",
      "8                        Rio Paraopeba                    -3.787879\n",
      "9                   Rio Paraíba do Sul                    -8.822149\n",
      "10                        Rio Paracatu                     0.000000\n",
      "11                      Rio das Velhas                     2.610759\n",
      "12                   Rio Jequitinhonha                    10.106900\n",
      "13       Afluentes do rio Verde Grande                    45.939394\n",
      "14  Afluentes mineiros do Médio Grande                     0.000000\n"
     ]
    }
   ],
   "source": [
    "print(df_pc_altura)"
   ]
  },
  {
   "cell_type": "code",
   "execution_count": 45,
   "metadata": {},
   "outputs": [],
   "source": [
    "porce_v_aterro = ((np.asarray(lista_media_vaterro_2016)-np.asarray(lista_media_vaterro_2015))/np.asarray(lista_media_vaterro_2016))*100"
   ]
  },
  {
   "cell_type": "code",
   "execution_count": 46,
   "metadata": {},
   "outputs": [
    {
     "data": {
      "text/plain": [
       "array([ -5.14818975,   5.12607211,  19.11840149,  -2.5195576 ,\n",
       "        -7.17324805,   0.        ,   0.        ,  72.49759866,\n",
       "        17.76922861, -11.42513629,   0.        , -11.41587205,\n",
       "         6.16926547,   3.35160714,   0.        ])"
      ]
     },
     "execution_count": 46,
     "metadata": {},
     "output_type": "execute_result"
    }
   ],
   "source": [
    "porce_v_aterro"
   ]
  },
  {
   "cell_type": "code",
   "execution_count": 47,
   "metadata": {},
   "outputs": [],
   "source": [
    "df_pc_v_aterro = pd.DataFrame({'Bacia': lista_nome_2016, 'Crescimento Médio de Voume de Aterro': porce_v_aterro})"
   ]
  },
  {
   "cell_type": "code",
   "execution_count": 48,
   "metadata": {},
   "outputs": [
    {
     "data": {
      "text/html": [
       "<div>\n",
       "<style scoped>\n",
       "    .dataframe tbody tr th:only-of-type {\n",
       "        vertical-align: middle;\n",
       "    }\n",
       "\n",
       "    .dataframe tbody tr th {\n",
       "        vertical-align: top;\n",
       "    }\n",
       "\n",
       "    .dataframe thead th {\n",
       "        text-align: right;\n",
       "    }\n",
       "</style>\n",
       "<table border=\"1\" class=\"dataframe\">\n",
       "  <thead>\n",
       "    <tr style=\"text-align: right;\">\n",
       "      <th></th>\n",
       "      <th>Bacia</th>\n",
       "      <th>Crescimento Médio de Voume de Aterro</th>\n",
       "    </tr>\n",
       "  </thead>\n",
       "  <tbody>\n",
       "    <tr>\n",
       "      <th>0</th>\n",
       "      <td>Rio Paranaíba</td>\n",
       "      <td>-5.148190</td>\n",
       "    </tr>\n",
       "    <tr>\n",
       "      <th>1</th>\n",
       "      <td>Rio São Francisco</td>\n",
       "      <td>5.126072</td>\n",
       "    </tr>\n",
       "    <tr>\n",
       "      <th>2</th>\n",
       "      <td>Rio Mucuri</td>\n",
       "      <td>19.118401</td>\n",
       "    </tr>\n",
       "    <tr>\n",
       "      <th>3</th>\n",
       "      <td>Rio Grande</td>\n",
       "      <td>-2.519558</td>\n",
       "    </tr>\n",
       "    <tr>\n",
       "      <th>4</th>\n",
       "      <td>Rio Doce</td>\n",
       "      <td>-7.173248</td>\n",
       "    </tr>\n",
       "    <tr>\n",
       "      <th>5</th>\n",
       "      <td>Rio Pardo</td>\n",
       "      <td>0.000000</td>\n",
       "    </tr>\n",
       "    <tr>\n",
       "      <th>6</th>\n",
       "      <td>Rio Santo Antônio</td>\n",
       "      <td>0.000000</td>\n",
       "    </tr>\n",
       "    <tr>\n",
       "      <th>7</th>\n",
       "      <td>Rio Piracicaba</td>\n",
       "      <td>72.497599</td>\n",
       "    </tr>\n",
       "    <tr>\n",
       "      <th>8</th>\n",
       "      <td>Rio Paraopeba</td>\n",
       "      <td>17.769229</td>\n",
       "    </tr>\n",
       "    <tr>\n",
       "      <th>9</th>\n",
       "      <td>Rio Paraíba do Sul</td>\n",
       "      <td>-11.425136</td>\n",
       "    </tr>\n",
       "    <tr>\n",
       "      <th>10</th>\n",
       "      <td>Rio Paracatu</td>\n",
       "      <td>0.000000</td>\n",
       "    </tr>\n",
       "    <tr>\n",
       "      <th>11</th>\n",
       "      <td>Rio das Velhas</td>\n",
       "      <td>-11.415872</td>\n",
       "    </tr>\n",
       "    <tr>\n",
       "      <th>12</th>\n",
       "      <td>Rio Jequitinhonha</td>\n",
       "      <td>6.169265</td>\n",
       "    </tr>\n",
       "    <tr>\n",
       "      <th>13</th>\n",
       "      <td>Afluentes do rio Verde Grande</td>\n",
       "      <td>3.351607</td>\n",
       "    </tr>\n",
       "    <tr>\n",
       "      <th>14</th>\n",
       "      <td>Afluentes mineiros do Médio Grande</td>\n",
       "      <td>0.000000</td>\n",
       "    </tr>\n",
       "  </tbody>\n",
       "</table>\n",
       "</div>"
      ],
      "text/plain": [
       "                                 Bacia  Crescimento Médio de Voume de Aterro\n",
       "0                        Rio Paranaíba                             -5.148190\n",
       "1                    Rio São Francisco                              5.126072\n",
       "2                           Rio Mucuri                             19.118401\n",
       "3                           Rio Grande                             -2.519558\n",
       "4                             Rio Doce                             -7.173248\n",
       "5                            Rio Pardo                              0.000000\n",
       "6                    Rio Santo Antônio                              0.000000\n",
       "7                       Rio Piracicaba                             72.497599\n",
       "8                        Rio Paraopeba                             17.769229\n",
       "9                   Rio Paraíba do Sul                            -11.425136\n",
       "10                        Rio Paracatu                              0.000000\n",
       "11                      Rio das Velhas                            -11.415872\n",
       "12                   Rio Jequitinhonha                              6.169265\n",
       "13       Afluentes do rio Verde Grande                              3.351607\n",
       "14  Afluentes mineiros do Médio Grande                              0.000000"
      ]
     },
     "execution_count": 48,
     "metadata": {},
     "output_type": "execute_result"
    }
   ],
   "source": [
    "df_pc_v_aterro"
   ]
  },
  {
   "cell_type": "code",
   "execution_count": 49,
   "metadata": {},
   "outputs": [],
   "source": [
    "porce_v_reserv = ((np.asarray(lista_media_vreserv_2016) - np.asarray(lista_media_vreserv_2015))/np.asarray(lista_media_vreserv_2016))*100"
   ]
  },
  {
   "cell_type": "code",
   "execution_count": 50,
   "metadata": {},
   "outputs": [
    {
     "data": {
      "text/plain": [
       "array([ -5.16910564,   5.2490413 ,  14.00465451,  33.89350809,\n",
       "       -16.93491152,   0.        ,   0.        ,  77.04800495,\n",
       "        -9.78637874,  -2.26818001,   0.        , -10.54353309,\n",
       "         1.70474946,  30.01198658,   0.        ])"
      ]
     },
     "execution_count": 50,
     "metadata": {},
     "output_type": "execute_result"
    }
   ],
   "source": [
    "porce_v_reserv"
   ]
  },
  {
   "cell_type": "code",
   "execution_count": 51,
   "metadata": {},
   "outputs": [],
   "source": [
    "df_pc_v_aterro = pd.DataFrame({'Bacia': lista_nome_2016, 'Crescimento Médio de Voume de Reservatório': porce_v_reserv})"
   ]
  },
  {
   "cell_type": "code",
   "execution_count": 52,
   "metadata": {},
   "outputs": [
    {
     "data": {
      "text/html": [
       "<div>\n",
       "<style scoped>\n",
       "    .dataframe tbody tr th:only-of-type {\n",
       "        vertical-align: middle;\n",
       "    }\n",
       "\n",
       "    .dataframe tbody tr th {\n",
       "        vertical-align: top;\n",
       "    }\n",
       "\n",
       "    .dataframe thead th {\n",
       "        text-align: right;\n",
       "    }\n",
       "</style>\n",
       "<table border=\"1\" class=\"dataframe\">\n",
       "  <thead>\n",
       "    <tr style=\"text-align: right;\">\n",
       "      <th></th>\n",
       "      <th>Bacia</th>\n",
       "      <th>Crescimento Médio de Voume de Reservatório</th>\n",
       "    </tr>\n",
       "  </thead>\n",
       "  <tbody>\n",
       "    <tr>\n",
       "      <th>0</th>\n",
       "      <td>Rio Paranaíba</td>\n",
       "      <td>-5.169106</td>\n",
       "    </tr>\n",
       "    <tr>\n",
       "      <th>1</th>\n",
       "      <td>Rio São Francisco</td>\n",
       "      <td>5.249041</td>\n",
       "    </tr>\n",
       "    <tr>\n",
       "      <th>2</th>\n",
       "      <td>Rio Mucuri</td>\n",
       "      <td>14.004655</td>\n",
       "    </tr>\n",
       "    <tr>\n",
       "      <th>3</th>\n",
       "      <td>Rio Grande</td>\n",
       "      <td>33.893508</td>\n",
       "    </tr>\n",
       "    <tr>\n",
       "      <th>4</th>\n",
       "      <td>Rio Doce</td>\n",
       "      <td>-16.934912</td>\n",
       "    </tr>\n",
       "    <tr>\n",
       "      <th>5</th>\n",
       "      <td>Rio Pardo</td>\n",
       "      <td>0.000000</td>\n",
       "    </tr>\n",
       "    <tr>\n",
       "      <th>6</th>\n",
       "      <td>Rio Santo Antônio</td>\n",
       "      <td>0.000000</td>\n",
       "    </tr>\n",
       "    <tr>\n",
       "      <th>7</th>\n",
       "      <td>Rio Piracicaba</td>\n",
       "      <td>77.048005</td>\n",
       "    </tr>\n",
       "    <tr>\n",
       "      <th>8</th>\n",
       "      <td>Rio Paraopeba</td>\n",
       "      <td>-9.786379</td>\n",
       "    </tr>\n",
       "    <tr>\n",
       "      <th>9</th>\n",
       "      <td>Rio Paraíba do Sul</td>\n",
       "      <td>-2.268180</td>\n",
       "    </tr>\n",
       "    <tr>\n",
       "      <th>10</th>\n",
       "      <td>Rio Paracatu</td>\n",
       "      <td>0.000000</td>\n",
       "    </tr>\n",
       "    <tr>\n",
       "      <th>11</th>\n",
       "      <td>Rio das Velhas</td>\n",
       "      <td>-10.543533</td>\n",
       "    </tr>\n",
       "    <tr>\n",
       "      <th>12</th>\n",
       "      <td>Rio Jequitinhonha</td>\n",
       "      <td>1.704749</td>\n",
       "    </tr>\n",
       "    <tr>\n",
       "      <th>13</th>\n",
       "      <td>Afluentes do rio Verde Grande</td>\n",
       "      <td>30.011987</td>\n",
       "    </tr>\n",
       "    <tr>\n",
       "      <th>14</th>\n",
       "      <td>Afluentes mineiros do Médio Grande</td>\n",
       "      <td>0.000000</td>\n",
       "    </tr>\n",
       "  </tbody>\n",
       "</table>\n",
       "</div>"
      ],
      "text/plain": [
       "                                 Bacia  \\\n",
       "0                        Rio Paranaíba   \n",
       "1                    Rio São Francisco   \n",
       "2                           Rio Mucuri   \n",
       "3                           Rio Grande   \n",
       "4                             Rio Doce   \n",
       "5                            Rio Pardo   \n",
       "6                    Rio Santo Antônio   \n",
       "7                       Rio Piracicaba   \n",
       "8                        Rio Paraopeba   \n",
       "9                   Rio Paraíba do Sul   \n",
       "10                        Rio Paracatu   \n",
       "11                      Rio das Velhas   \n",
       "12                   Rio Jequitinhonha   \n",
       "13       Afluentes do rio Verde Grande   \n",
       "14  Afluentes mineiros do Médio Grande   \n",
       "\n",
       "    Crescimento Médio de Voume de Reservatório  \n",
       "0                                    -5.169106  \n",
       "1                                     5.249041  \n",
       "2                                    14.004655  \n",
       "3                                    33.893508  \n",
       "4                                   -16.934912  \n",
       "5                                     0.000000  \n",
       "6                                     0.000000  \n",
       "7                                    77.048005  \n",
       "8                                    -9.786379  \n",
       "9                                    -2.268180  \n",
       "10                                    0.000000  \n",
       "11                                  -10.543533  \n",
       "12                                    1.704749  \n",
       "13                                   30.011987  \n",
       "14                                    0.000000  "
      ]
     },
     "execution_count": 52,
     "metadata": {},
     "output_type": "execute_result"
    }
   ],
   "source": [
    "df_pc_v_aterro"
   ]
  },
  {
   "cell_type": "code",
   "execution_count": 53,
   "metadata": {},
   "outputs": [
    {
     "data": {
      "text/plain": [
       "81116.66666666667"
      ]
     },
     "execution_count": 53,
     "metadata": {},
     "output_type": "execute_result"
    }
   ],
   "source": [
    "np.asarray(lista_v_aterro_2015[12]).mean()"
   ]
  },
  {
   "cell_type": "code",
   "execution_count": 54,
   "metadata": {},
   "outputs": [
    {
     "data": {
      "text/plain": [
       "86450.0"
      ]
     },
     "execution_count": 54,
     "metadata": {},
     "output_type": "execute_result"
    }
   ],
   "source": [
    "np.asarray(lista_v_aterro_2016[12]).mean()"
   ]
  },
  {
   "cell_type": "code",
   "execution_count": 55,
   "metadata": {},
   "outputs": [
    {
     "data": {
      "text/plain": [
       "array([217500., 210000.,  73000.,   8000.,   8000.,   2200.])"
      ]
     },
     "execution_count": 55,
     "metadata": {},
     "output_type": "execute_result"
    }
   ],
   "source": [
    "lista_v_aterro_2016[12]"
   ]
  },
  {
   "cell_type": "code",
   "execution_count": 56,
   "metadata": {},
   "outputs": [
    {
     "data": {
      "text/plain": [
       "array([  8000.,   8000.,   2200.,  41000., 210000., 217500.])"
      ]
     },
     "execution_count": 56,
     "metadata": {},
     "output_type": "execute_result"
    }
   ],
   "source": [
    "lista_v_aterro_2015[12]"
   ]
  },
  {
   "cell_type": "code",
   "execution_count": 57,
   "metadata": {},
   "outputs": [],
   "source": [
    "name = lista_nome_2016"
   ]
  },
  {
   "cell_type": "code",
   "execution_count": 58,
   "metadata": {},
   "outputs": [
    {
     "data": {
      "text/plain": [
       "['Rio Paranaíba',\n",
       " 'Rio São Francisco',\n",
       " 'Rio Mucuri',\n",
       " 'Rio Grande',\n",
       " 'Rio Doce',\n",
       " 'Rio Pardo',\n",
       " 'Rio Santo Antônio',\n",
       " 'Rio Piracicaba',\n",
       " 'Rio Paraopeba',\n",
       " 'Rio Paraíba do Sul',\n",
       " 'Rio Paracatu',\n",
       " 'Rio das Velhas',\n",
       " 'Rio Jequitinhonha',\n",
       " 'Afluentes do rio Verde Grande',\n",
       " 'Afluentes mineiros do Médio Grande']"
      ]
     },
     "execution_count": 58,
     "metadata": {},
     "output_type": "execute_result"
    }
   ],
   "source": [
    "name"
   ]
  },
  {
   "cell_type": "code",
   "execution_count": null,
   "metadata": {},
   "outputs": [],
   "source": []
  }
 ],
 "metadata": {
  "kernelspec": {
   "display_name": "Python 3",
   "language": "python",
   "name": "python3"
  },
  "language_info": {
   "codemirror_mode": {
    "name": "ipython",
    "version": 3
   },
   "file_extension": ".py",
   "mimetype": "text/x-python",
   "name": "python",
   "nbconvert_exporter": "python",
   "pygments_lexer": "ipython3",
   "version": "3.6.5"
  }
 },
 "nbformat": 4,
 "nbformat_minor": 2
}
